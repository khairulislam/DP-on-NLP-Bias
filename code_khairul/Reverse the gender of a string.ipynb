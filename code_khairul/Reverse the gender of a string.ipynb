{
 "cells": [
  {
   "cell_type": "code",
   "execution_count": 59,
   "metadata": {},
   "outputs": [],
   "source": [
    "# https://rosettacode.org/wiki/Reverse_the_gender_of_a_string#Python\n",
    " \n",
    "import re\n",
    "male2female=u\"\"\"maleS femaleS, maleness femaleness,\n",
    "him her, himself herself, his her, his hers, he she,\n",
    "Mr Mrs, Mister Missus, Ms Mr, Master Miss, Master Mistress,\n",
    "uncleS auntS, nephewS nieceS, sonS daughterS, grandsonS granddaughterS,\n",
    "brotherS sisterS, man woman, men women, boyS girlS, paternal maternal,\n",
    "grandfatherS grandmotherS,\n",
    "husband wife, husbands wives, fatherS motherS, bridegroomS brideS, widowerS widowS,\n",
    "KingS QueenS,PrinceS PrincessES,\n",
    "Lord Lady, Lords Ladies,ladS lassES, sir madam, gentleman lady, gentlemen ladies,\n",
    "godS goddessES, heroS heroineS, landlord landlady, landlords landladies, \n",
    "manservantS maidservantS, actorS actressES,\n",
    "boyfriendS girlfriendS, dogS bitchES, daddy mommy, dadS momS\"\"\"\n",
    " \n",
    "re_newline=re.compile(r\",[ \\n]*\")\n",
    "male2female_splitted=[ token.split(\" \") for token in re_newline.split(male2female) ]\n",
    " \n",
    "re_plural=re.compile(\"E*S$\")\n",
    "re_ES=re.compile(\"ES$\")\n",
    " \n",
    "def gen_pluralize(m,f):\n",
    "# do plurals first \n",
    "  yield re_plural.sub(\"\",m),re_plural.sub(\"\",f)\n",
    "  yield re_ES.sub(\"es\",m),re_ES.sub(\"es\",f)\n",
    "  yield re_plural.sub(\"s\",m),re_plural.sub(\"s\",f)\n",
    " \n",
    "def gen_capitalize_pluralize(m,f):\n",
    "  for m,f in gen_pluralize(m,f):\n",
    "    yield m.capitalize(), f.capitalize()\n",
    "    yield m,f\n",
    "\n",
    "# converts male pronouns to female and female to male\n",
    "def gen_switch(male_to_female=True, female_to_male=True):\n",
    "  switch={}\n",
    "  words=[]\n",
    "\n",
    "  for male,female in male2female_splitted:\n",
    "    for xy, xx in gen_capitalize_pluralize(male,female):\n",
    "      if male_to_female and xy not in switch: \n",
    "        switch[xy]=xx\n",
    "        words.append(xy)\n",
    "      if female_to_male and xx not in switch: \n",
    "        switch[xx]=xy\n",
    "        words.append(xx)\n",
    "\n",
    "  words=\"|\".join(words)\n",
    "  re_word = re.compile(r\"\\b(\"+words+r\")\\b\")\n",
    "  return re_word, switch\n",
    "\n",
    "re_word, switch = gen_switch(male_to_female=True, female_to_male=True)\n",
    "\n",
    "def rev_gender(text):\n",
    "  text=re_word.split(text)\n",
    "  return \"\".join([ word+switch[gen] for word,gen in zip(text[::2],text[1::2])]) + text[-1]"
   ]
  },
  {
   "cell_type": "code",
   "execution_count": 47,
   "metadata": {},
   "outputs": [
    {
     "name": "stdout",
     "output_type": "stream",
     "text": [
      "When a new-hatched savage running wild about him native\n",
      "woodlands in a grass clout, followed by the nibbling goats, as if\n",
      "he were a green sapling; There was excellent\n",
      "blood in his veins-royal stuff; though sadly vitiated, I fear,\n",
      "by the cannibal propensity he nourished in his untutored youth.\n"
     ]
    }
   ],
   "source": [
    "text=u'''When a new-hatched savage running wild about her native\n",
    "woodlands in a grass clout, followed by the nibbling goats, as if\n",
    "he were a green sapling; There was excellent\n",
    "blood in his veins-royal stuff; though sadly vitiated, I fear,\n",
    "by the cannibal propensity he nourished in his untutored youth.'''\n",
    " \n",
    "print(rev_gender(text))"
   ]
  },
  {
   "cell_type": "code",
   "execution_count": 63,
   "metadata": {},
   "outputs": [
    {
     "name": "stdout",
     "output_type": "stream",
     "text": [
      "shout out to my # babydaddy # fathersday\n"
     ]
    }
   ],
   "source": [
    "text = 'shout out to my # babydaddy # fathersday'\n",
    "print(rev_gender(text.lower()))"
   ]
  },
  {
   "cell_type": "code",
   "execution_count": null,
   "metadata": {},
   "outputs": [],
   "source": []
  }
 ],
 "metadata": {
  "interpreter": {
   "hash": "076d5ab3cb69a029cea0e81e5a616a9bfe17a70fda9b31c7c4f4ba04648b795e"
  },
  "kernelspec": {
   "display_name": "Python 3.10.2 64-bit",
   "language": "python",
   "name": "python3"
  },
  "language_info": {
   "codemirror_mode": {
    "name": "ipython",
    "version": 3
   },
   "file_extension": ".py",
   "mimetype": "text/x-python",
   "name": "python",
   "nbconvert_exporter": "python",
   "pygments_lexer": "ipython3",
   "version": "3.10.2"
  },
  "orig_nbformat": 4
 },
 "nbformat": 4,
 "nbformat_minor": 2
}
