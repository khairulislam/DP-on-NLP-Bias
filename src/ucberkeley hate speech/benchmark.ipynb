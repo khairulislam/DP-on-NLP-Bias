{
 "cells": [
  {
   "cell_type": "markdown",
   "metadata": {},
   "source": [
    "# Imports"
   ]
  },
  {
   "cell_type": "code",
   "execution_count": 23,
   "metadata": {},
   "outputs": [],
   "source": [
    "import pandas as pd\n",
    "import numpy as np\n",
    "import os\n",
    "from sklearn import metrics\n",
    "import warnings\n",
    "warnings.simplefilter(action='ignore', category=FutureWarning)\n",
    "import sys\n",
    "# this adds the src folder in the sys path, where the metric_utils.py file is\n",
    "# not needed if this notebook is in the same folder, but uncomment to access from the data subfolders\n",
    "sys.path.append( '..' )\n",
    "from metric_utils import *\n",
    "\n",
    "pd.set_option('display.max_columns', None)\n",
    "pd.set_option('display.max_colwidth', None)"
   ]
  },
  {
   "cell_type": "markdown",
   "metadata": {},
   "source": [
    "# Result path"
   ]
  },
  {
   "cell_type": "code",
   "execution_count": 24,
   "metadata": {},
   "outputs": [],
   "source": [
    "dataset_name = 'ucberkeley hate speech'\n",
    "model_name = 'bert'\n",
    "\n",
    "# change to ../../results/{dataset_name} when using inside one of the data subfolders\n",
    "result_folder = f'../../results/{dataset_name}'\n",
    "test_csv_filepath = os.path.join(result_folder, 'test.csv')\n",
    "\n",
    "model_folder = os.path.join(result_folder, model_name) # for this particular model\n",
    "result_filepath = os.path.join(model_folder, 'results.csv')\n",
    "dp_result_filepath = os.path.join(model_folder, 'results_dp.csv')"
   ]
  },
  {
   "cell_type": "markdown",
   "metadata": {},
   "source": [
    "# Dataset\n",
    "The dataset can be preprocessed from the original dataset to be used here. To simplify things, I saved the preprocessed datasets during the tokenizing process as csv files and then downloaded them in the corresponding dataset folder of [`result`](../results/) directory.\n",
    "\n",
    "You can recreate the processed datasets using the tokenize notebooks for that particular dataset. That would give you train, test and validation csv files as well as the tokenized data."
   ]
  },
  {
   "cell_type": "code",
   "execution_count": 8,
   "metadata": {},
   "outputs": [],
   "source": [
    "result = pd.read_csv(result_filepath)\n",
    "dp_result = pd.read_csv(dp_result_filepath)\n",
    "df = pd.read_csv(test_csv_filepath)"
   ]
  },
  {
   "cell_type": "code",
   "execution_count": 9,
   "metadata": {},
   "outputs": [
    {
     "data": {
      "text/html": [
       "<div>\n",
       "<style scoped>\n",
       "    .dataframe tbody tr th:only-of-type {\n",
       "        vertical-align: middle;\n",
       "    }\n",
       "\n",
       "    .dataframe tbody tr th {\n",
       "        vertical-align: top;\n",
       "    }\n",
       "\n",
       "    .dataframe thead th {\n",
       "        text-align: right;\n",
       "    }\n",
       "</style>\n",
       "<table border=\"1\" class=\"dataframe\">\n",
       "  <thead>\n",
       "    <tr style=\"text-align: right;\">\n",
       "      <th></th>\n",
       "      <th>comment_id</th>\n",
       "      <th>text</th>\n",
       "      <th>target_gender_men</th>\n",
       "      <th>target_gender_women</th>\n",
       "      <th>target_race_white</th>\n",
       "      <th>target_race_black</th>\n",
       "      <th>labels</th>\n",
       "    </tr>\n",
       "  </thead>\n",
       "  <tbody>\n",
       "    <tr>\n",
       "      <th>0</th>\n",
       "      <td>41012</td>\n",
       "      <td>I don't want to see America treated like a garbage can. Luv from Canada.</td>\n",
       "      <td>0</td>\n",
       "      <td>0</td>\n",
       "      <td>0</td>\n",
       "      <td>0</td>\n",
       "      <td>0</td>\n",
       "    </tr>\n",
       "    <tr>\n",
       "      <th>1</th>\n",
       "      <td>31056</td>\n",
       "      <td>@mike_pence @realDonaldTrump You're a Christian of convenience. You're a fake</td>\n",
       "      <td>0</td>\n",
       "      <td>0</td>\n",
       "      <td>0</td>\n",
       "      <td>0</td>\n",
       "      <td>0</td>\n",
       "    </tr>\n",
       "  </tbody>\n",
       "</table>\n",
       "</div>"
      ],
      "text/plain": [
       "   comment_id  \\\n",
       "0       41012   \n",
       "1       31056   \n",
       "\n",
       "                                                                            text  \\\n",
       "0       I don't want to see America treated like a garbage can. Luv from Canada.   \n",
       "1  @mike_pence @realDonaldTrump You're a Christian of convenience. You're a fake   \n",
       "\n",
       "   target_gender_men  target_gender_women  target_race_white  \\\n",
       "0                  0                    0                  0   \n",
       "1                  0                    0                  0   \n",
       "\n",
       "   target_race_black  labels  \n",
       "0                  0       0  \n",
       "1                  0       0  "
      ]
     },
     "execution_count": 9,
     "metadata": {},
     "output_type": "execute_result"
    }
   ],
   "source": [
    "df.head(2)"
   ]
  },
  {
   "cell_type": "markdown",
   "metadata": {},
   "source": [
    "## Split test result"
   ]
  },
  {
   "cell_type": "code",
   "execution_count": 10,
   "metadata": {},
   "outputs": [],
   "source": [
    "# only calculate test result\n",
    "result = result[result['split']=='test']\n",
    "dp_result = dp_result[dp_result['split']=='test']\n",
    "\n",
    "# drop split column\n",
    "result.drop(columns=['split'], inplace=True)\n",
    "dp_result.drop(columns=['split'], inplace=True)"
   ]
  },
  {
   "cell_type": "markdown",
   "metadata": {},
   "source": [
    "## Prepare test data"
   ]
  },
  {
   "cell_type": "code",
   "execution_count": 11,
   "metadata": {},
   "outputs": [],
   "source": [
    "# result has id column which is the same as the text ids from raw dataset\n",
    "raw_id_column = 'comment_id'\n",
    "df.rename({raw_id_column: id_column}, axis=1, inplace=True)\n",
    "df.drop(columns=['labels'], inplace=True)"
   ]
  },
  {
   "cell_type": "markdown",
   "metadata": {},
   "source": [
    "## Merge"
   ]
  },
  {
   "cell_type": "code",
   "execution_count": 12,
   "metadata": {},
   "outputs": [],
   "source": [
    "result = result.merge(df, on=id_column, how='inner').reset_index(drop=True)\n",
    "dp_result = dp_result.merge(df, on=id_column, how='inner').reset_index(drop=True)"
   ]
  },
  {
   "cell_type": "code",
   "execution_count": 13,
   "metadata": {},
   "outputs": [
    {
     "data": {
      "text/html": [
       "<div>\n",
       "<style scoped>\n",
       "    .dataframe tbody tr th:only-of-type {\n",
       "        vertical-align: middle;\n",
       "    }\n",
       "\n",
       "    .dataframe tbody tr th {\n",
       "        vertical-align: top;\n",
       "    }\n",
       "\n",
       "    .dataframe thead th {\n",
       "        text-align: right;\n",
       "    }\n",
       "</style>\n",
       "<table border=\"1\" class=\"dataframe\">\n",
       "  <thead>\n",
       "    <tr style=\"text-align: right;\">\n",
       "      <th></th>\n",
       "      <th>id</th>\n",
       "      <th>labels</th>\n",
       "      <th>probs</th>\n",
       "      <th>text</th>\n",
       "      <th>target_gender_men</th>\n",
       "      <th>target_gender_women</th>\n",
       "      <th>target_race_white</th>\n",
       "      <th>target_race_black</th>\n",
       "    </tr>\n",
       "  </thead>\n",
       "  <tbody>\n",
       "    <tr>\n",
       "      <th>0</th>\n",
       "      <td>41012</td>\n",
       "      <td>0</td>\n",
       "      <td>0.158559</td>\n",
       "      <td>I don't want to see America treated like a garbage can. Luv from Canada.</td>\n",
       "      <td>0</td>\n",
       "      <td>0</td>\n",
       "      <td>0</td>\n",
       "      <td>0</td>\n",
       "    </tr>\n",
       "    <tr>\n",
       "      <th>1</th>\n",
       "      <td>31056</td>\n",
       "      <td>0</td>\n",
       "      <td>0.281979</td>\n",
       "      <td>@mike_pence @realDonaldTrump You're a Christian of convenience. You're a fake</td>\n",
       "      <td>0</td>\n",
       "      <td>0</td>\n",
       "      <td>0</td>\n",
       "      <td>0</td>\n",
       "    </tr>\n",
       "    <tr>\n",
       "      <th>2</th>\n",
       "      <td>17058</td>\n",
       "      <td>0</td>\n",
       "      <td>0.405848</td>\n",
       "      <td>Jesus just has his holy reverse card that he uses on the microbes. Does that girl have a holy reverse? I thot not.</td>\n",
       "      <td>0</td>\n",
       "      <td>0</td>\n",
       "      <td>0</td>\n",
       "      <td>0</td>\n",
       "    </tr>\n",
       "    <tr>\n",
       "      <th>3</th>\n",
       "      <td>4023</td>\n",
       "      <td>0</td>\n",
       "      <td>0.062836</td>\n",
       "      <td>Why? It's never even hinted that being gay or bi means you end up in the Bad Place, if that's what you meant?</td>\n",
       "      <td>0</td>\n",
       "      <td>0</td>\n",
       "      <td>0</td>\n",
       "      <td>0</td>\n",
       "    </tr>\n",
       "    <tr>\n",
       "      <th>4</th>\n",
       "      <td>3792</td>\n",
       "      <td>0</td>\n",
       "      <td>0.754239</td>\n",
       "      <td>I'm half Jewish you fucking idiot. Eat a dick</td>\n",
       "      <td>0</td>\n",
       "      <td>0</td>\n",
       "      <td>0</td>\n",
       "      <td>0</td>\n",
       "    </tr>\n",
       "  </tbody>\n",
       "</table>\n",
       "</div>"
      ],
      "text/plain": [
       "      id  labels     probs  \\\n",
       "0  41012       0  0.158559   \n",
       "1  31056       0  0.281979   \n",
       "2  17058       0  0.405848   \n",
       "3   4023       0  0.062836   \n",
       "4   3792       0  0.754239   \n",
       "\n",
       "                                                                                                                 text  \\\n",
       "0                                            I don't want to see America treated like a garbage can. Luv from Canada.   \n",
       "1                                       @mike_pence @realDonaldTrump You're a Christian of convenience. You're a fake   \n",
       "2  Jesus just has his holy reverse card that he uses on the microbes. Does that girl have a holy reverse? I thot not.   \n",
       "3       Why? It's never even hinted that being gay or bi means you end up in the Bad Place, if that's what you meant?   \n",
       "4                                                                       I'm half Jewish you fucking idiot. Eat a dick   \n",
       "\n",
       "   target_gender_men  target_gender_women  target_race_white  \\\n",
       "0                  0                    0                  0   \n",
       "1                  0                    0                  0   \n",
       "2                  0                    0                  0   \n",
       "3                  0                    0                  0   \n",
       "4                  0                    0                  0   \n",
       "\n",
       "   target_race_black  \n",
       "0                  0  \n",
       "1                  0  \n",
       "2                  0  \n",
       "3                  0  \n",
       "4                  0  "
      ]
     },
     "execution_count": 13,
     "metadata": {},
     "output_type": "execute_result"
    }
   ],
   "source": [
    "result.head()"
   ]
  },
  {
   "cell_type": "markdown",
   "metadata": {},
   "source": [
    "# Evaluation"
   ]
  },
  {
   "cell_type": "markdown",
   "metadata": {},
   "source": [
    "## Convert probability to prediction"
   ]
  },
  {
   "cell_type": "code",
   "execution_count": 15,
   "metadata": {},
   "outputs": [],
   "source": [
    "result[prediction_column] = result[probability_column] >=0.5\n",
    "dp_result[prediction_column] = dp_result[probability_column] >=0.5"
   ]
  },
  {
   "cell_type": "markdown",
   "metadata": {},
   "source": [
    "## Identity groups"
   ]
  },
  {
   "cell_type": "code",
   "execution_count": 16,
   "metadata": {},
   "outputs": [
    {
     "name": "stdout",
     "output_type": "stream",
     "text": [
      "['target_gender_women', 'target_gender_men', 'target_race_black', 'target_race_white']\n"
     ]
    }
   ],
   "source": [
    "group_map = {\n",
    "    'gender': {\n",
    "        'unprivileged':['target_gender_women'],\n",
    "        'privileged':['target_gender_men']\n",
    "    },\n",
    "    'race': {\n",
    "        'unprivileged':['target_race_black'],\n",
    "        'privileged': ['target_race_white']\n",
    "    }\n",
    "}\n",
    "\n",
    "identities = []\n",
    "for group_key in group_map.keys():\n",
    "    subgroup_map = group_map[group_key]\n",
    "    for subgroup_key in subgroup_map.keys():\n",
    "        identities.extend(subgroup_map[subgroup_key])\n",
    "\n",
    "print(identities)"
   ]
  },
  {
   "cell_type": "markdown",
   "metadata": {},
   "source": [
    "### Binarize identity and target columns"
   ]
  },
  {
   "cell_type": "code",
   "execution_count": 18,
   "metadata": {},
   "outputs": [],
   "source": [
    "result = binarize(result, [target_column] + identities)\n",
    "dp_result = binarize(dp_result, [target_column] + identities)"
   ]
  },
  {
   "cell_type": "markdown",
   "metadata": {},
   "source": [
    "## Bias"
   ]
  },
  {
   "cell_type": "code",
   "execution_count": 19,
   "metadata": {},
   "outputs": [
    {
     "data": {
      "text/html": [
       "<div>\n",
       "<style scoped>\n",
       "    .dataframe tbody tr th:only-of-type {\n",
       "        vertical-align: middle;\n",
       "    }\n",
       "\n",
       "    .dataframe tbody tr th {\n",
       "        vertical-align: top;\n",
       "    }\n",
       "\n",
       "    .dataframe thead th {\n",
       "        text-align: right;\n",
       "    }\n",
       "</style>\n",
       "<table border=\"1\" class=\"dataframe\">\n",
       "  <thead>\n",
       "    <tr style=\"text-align: right;\">\n",
       "      <th></th>\n",
       "      <th>fairness_metrics</th>\n",
       "      <th>gender</th>\n",
       "      <th>gender_DP</th>\n",
       "      <th>race</th>\n",
       "      <th>race_DP</th>\n",
       "    </tr>\n",
       "  </thead>\n",
       "  <tbody>\n",
       "    <tr>\n",
       "      <th>0</th>\n",
       "      <td>demographic parity</td>\n",
       "      <td>0.472754</td>\n",
       "      <td>0.593520</td>\n",
       "      <td>0.541825</td>\n",
       "      <td>0.500000</td>\n",
       "    </tr>\n",
       "    <tr>\n",
       "      <th>1</th>\n",
       "      <td>Equality of Opportunity (w.r.t y = 1)</td>\n",
       "      <td>0.948202</td>\n",
       "      <td>0.982615</td>\n",
       "      <td>0.732689</td>\n",
       "      <td>0.565546</td>\n",
       "    </tr>\n",
       "    <tr>\n",
       "      <th>2</th>\n",
       "      <td>Equality of Opportunity (w.r.t y = 0)</td>\n",
       "      <td>0.957949</td>\n",
       "      <td>0.946227</td>\n",
       "      <td>0.963286</td>\n",
       "      <td>0.907790</td>\n",
       "    </tr>\n",
       "    <tr>\n",
       "      <th>3</th>\n",
       "      <td>Equality of Odds</td>\n",
       "      <td>0.953075</td>\n",
       "      <td>0.964421</td>\n",
       "      <td>0.847988</td>\n",
       "      <td>0.736668</td>\n",
       "    </tr>\n",
       "    <tr>\n",
       "      <th>4</th>\n",
       "      <td>unprotected-accuracy</td>\n",
       "      <td>0.758911</td>\n",
       "      <td>0.740117</td>\n",
       "      <td>0.801462</td>\n",
       "      <td>0.799026</td>\n",
       "    </tr>\n",
       "    <tr>\n",
       "      <th>5</th>\n",
       "      <td>protected-accuracy</td>\n",
       "      <td>0.784978</td>\n",
       "      <td>0.798233</td>\n",
       "      <td>0.756654</td>\n",
       "      <td>0.775665</td>\n",
       "    </tr>\n",
       "    <tr>\n",
       "      <th>6</th>\n",
       "      <td>accuracy</td>\n",
       "      <td>0.771945</td>\n",
       "      <td>0.769175</td>\n",
       "      <td>0.779058</td>\n",
       "      <td>0.787345</td>\n",
       "    </tr>\n",
       "  </tbody>\n",
       "</table>\n",
       "</div>"
      ],
      "text/plain": [
       "                        fairness_metrics    gender  gender_DP      race  \\\n",
       "0                     demographic parity  0.472754   0.593520  0.541825   \n",
       "1  Equality of Opportunity (w.r.t y = 1)  0.948202   0.982615  0.732689   \n",
       "2  Equality of Opportunity (w.r.t y = 0)  0.957949   0.946227  0.963286   \n",
       "3                       Equality of Odds  0.953075   0.964421  0.847988   \n",
       "4                   unprotected-accuracy  0.758911   0.740117  0.801462   \n",
       "5                     protected-accuracy  0.784978   0.798233  0.756654   \n",
       "6                               accuracy  0.771945   0.769175  0.779058   \n",
       "\n",
       "    race_DP  \n",
       "0  0.500000  \n",
       "1  0.565546  \n",
       "2  0.907790  \n",
       "3  0.736668  \n",
       "4  0.799026  \n",
       "5  0.775665  \n",
       "6  0.787345  "
      ]
     },
     "execution_count": 19,
     "metadata": {},
     "output_type": "execute_result"
    }
   ],
   "source": [
    "bias_results = {\n",
    "   'fairness_metrics': ['demographic parity', 'Equality of Opportunity (w.r.t y = 1)',\n",
    "   'Equality of Opportunity (w.r.t y = 0)', 'Equality of Odds', 'unprotected-accuracy',\n",
    "   'protected-accuracy', 'accuracy']\n",
    "}\n",
    "\n",
    "for group_key in group_map.keys():\n",
    "   subgroup_map = group_map[group_key]\n",
    "   privileged_group = subgroup_map['privileged']\n",
    "   unprivileged_group = subgroup_map['unprivileged']\n",
    "\n",
    "   bias_results[group_key] = calculate_bias(result, privileged_group, unprivileged_group)\n",
    "   bias_results[group_key+'_DP'] = calculate_bias(dp_result, privileged_group, unprivileged_group)\n",
    "\n",
    "bias_results = pd.DataFrame(bias_results) \n",
    "bias_results"
   ]
  },
  {
   "cell_type": "code",
   "execution_count": 20,
   "metadata": {},
   "outputs": [],
   "source": [
    "bias_results.to_csv(os.path.join(model_folder, 'bias.csv'), index=False)"
   ]
  },
  {
   "cell_type": "markdown",
   "metadata": {},
   "source": [
    "## Overall metrics"
   ]
  },
  {
   "cell_type": "code",
   "execution_count": 21,
   "metadata": {},
   "outputs": [
    {
     "data": {
      "text/html": [
       "<div>\n",
       "<style scoped>\n",
       "    .dataframe tbody tr th:only-of-type {\n",
       "        vertical-align: middle;\n",
       "    }\n",
       "\n",
       "    .dataframe tbody tr th {\n",
       "        vertical-align: top;\n",
       "    }\n",
       "\n",
       "    .dataframe thead th {\n",
       "        text-align: right;\n",
       "    }\n",
       "</style>\n",
       "<table border=\"1\" class=\"dataframe\">\n",
       "  <thead>\n",
       "    <tr style=\"text-align: right;\">\n",
       "      <th></th>\n",
       "      <th>metrics</th>\n",
       "      <th>target_gender_men</th>\n",
       "      <th>target_gender_men_DP</th>\n",
       "      <th>target_gender_women</th>\n",
       "      <th>target_gender_women_DP</th>\n",
       "      <th>target_race_white</th>\n",
       "      <th>target_race_white_DP</th>\n",
       "      <th>target_race_black</th>\n",
       "      <th>target_race_black_DP</th>\n",
       "      <th>Total</th>\n",
       "      <th>Total_DP</th>\n",
       "    </tr>\n",
       "  </thead>\n",
       "  <tbody>\n",
       "    <tr>\n",
       "      <th>0</th>\n",
       "      <td>auc</td>\n",
       "      <td>0.821865</td>\n",
       "      <td>0.807471</td>\n",
       "      <td>0.813587</td>\n",
       "      <td>0.777163</td>\n",
       "      <td>0.787519</td>\n",
       "      <td>0.757466</td>\n",
       "      <td>0.872563</td>\n",
       "      <td>0.860212</td>\n",
       "      <td>0.850017</td>\n",
       "      <td>0.822671</td>\n",
       "    </tr>\n",
       "    <tr>\n",
       "      <th>1</th>\n",
       "      <td>accuracy</td>\n",
       "      <td>0.784978</td>\n",
       "      <td>0.798233</td>\n",
       "      <td>0.758911</td>\n",
       "      <td>0.740117</td>\n",
       "      <td>0.756654</td>\n",
       "      <td>0.775665</td>\n",
       "      <td>0.801462</td>\n",
       "      <td>0.799026</td>\n",
       "      <td>0.797061</td>\n",
       "      <td>0.797926</td>\n",
       "    </tr>\n",
       "    <tr>\n",
       "      <th>2</th>\n",
       "      <td>f1_score</td>\n",
       "      <td>0.601093</td>\n",
       "      <td>0.559486</td>\n",
       "      <td>0.646388</td>\n",
       "      <td>0.561749</td>\n",
       "      <td>0.536232</td>\n",
       "      <td>0.404040</td>\n",
       "      <td>0.777018</td>\n",
       "      <td>0.755556</td>\n",
       "      <td>0.642944</td>\n",
       "      <td>0.578435</td>\n",
       "    </tr>\n",
       "    <tr>\n",
       "      <th>3</th>\n",
       "      <td>precision</td>\n",
       "      <td>0.582011</td>\n",
       "      <td>0.649254</td>\n",
       "      <td>0.621572</td>\n",
       "      <td>0.626829</td>\n",
       "      <td>0.528571</td>\n",
       "      <td>0.645161</td>\n",
       "      <td>0.745407</td>\n",
       "      <td>0.784615</td>\n",
       "      <td>0.628419</td>\n",
       "      <td>0.687232</td>\n",
       "    </tr>\n",
       "    <tr>\n",
       "      <th>4</th>\n",
       "      <td>recall</td>\n",
       "      <td>0.621469</td>\n",
       "      <td>0.491525</td>\n",
       "      <td>0.673267</td>\n",
       "      <td>0.508911</td>\n",
       "      <td>0.544118</td>\n",
       "      <td>0.294118</td>\n",
       "      <td>0.811429</td>\n",
       "      <td>0.728571</td>\n",
       "      <td>0.658157</td>\n",
       "      <td>0.499377</td>\n",
       "    </tr>\n",
       "    <tr>\n",
       "      <th>5</th>\n",
       "      <td>true positive rate</td>\n",
       "      <td>0.621469</td>\n",
       "      <td>0.491525</td>\n",
       "      <td>0.673267</td>\n",
       "      <td>0.508911</td>\n",
       "      <td>0.544118</td>\n",
       "      <td>0.294118</td>\n",
       "      <td>0.811429</td>\n",
       "      <td>0.728571</td>\n",
       "      <td>0.658157</td>\n",
       "      <td>0.499377</td>\n",
       "    </tr>\n",
       "    <tr>\n",
       "      <th>6</th>\n",
       "      <td>false positive rate</td>\n",
       "      <td>0.157371</td>\n",
       "      <td>0.093625</td>\n",
       "      <td>0.199422</td>\n",
       "      <td>0.147399</td>\n",
       "      <td>0.169231</td>\n",
       "      <td>0.056410</td>\n",
       "      <td>0.205945</td>\n",
       "      <td>0.148620</td>\n",
       "      <td>0.149557</td>\n",
       "      <td>0.087341</td>\n",
       "    </tr>\n",
       "  </tbody>\n",
       "</table>\n",
       "</div>"
      ],
      "text/plain": [
       "               metrics  target_gender_men  target_gender_men_DP  \\\n",
       "0                  auc           0.821865              0.807471   \n",
       "1             accuracy           0.784978              0.798233   \n",
       "2             f1_score           0.601093              0.559486   \n",
       "3            precision           0.582011              0.649254   \n",
       "4               recall           0.621469              0.491525   \n",
       "5   true positive rate           0.621469              0.491525   \n",
       "6  false positive rate           0.157371              0.093625   \n",
       "\n",
       "   target_gender_women  target_gender_women_DP  target_race_white  \\\n",
       "0             0.813587                0.777163           0.787519   \n",
       "1             0.758911                0.740117           0.756654   \n",
       "2             0.646388                0.561749           0.536232   \n",
       "3             0.621572                0.626829           0.528571   \n",
       "4             0.673267                0.508911           0.544118   \n",
       "5             0.673267                0.508911           0.544118   \n",
       "6             0.199422                0.147399           0.169231   \n",
       "\n",
       "   target_race_white_DP  target_race_black  target_race_black_DP     Total  \\\n",
       "0              0.757466           0.872563              0.860212  0.850017   \n",
       "1              0.775665           0.801462              0.799026  0.797061   \n",
       "2              0.404040           0.777018              0.755556  0.642944   \n",
       "3              0.645161           0.745407              0.784615  0.628419   \n",
       "4              0.294118           0.811429              0.728571  0.658157   \n",
       "5              0.294118           0.811429              0.728571  0.658157   \n",
       "6              0.056410           0.205945              0.148620  0.149557   \n",
       "\n",
       "   Total_DP  \n",
       "0  0.822671  \n",
       "1  0.797926  \n",
       "2  0.578435  \n",
       "3  0.687232  \n",
       "4  0.499377  \n",
       "5  0.499377  \n",
       "6  0.087341  "
      ]
     },
     "execution_count": 21,
     "metadata": {},
     "output_type": "execute_result"
    }
   ],
   "source": [
    "overall_results = {\n",
    "    'metrics': ['auc', 'accuracy', 'f1_score', 'precision', 'recall', 'true positive rate', 'false positive rate']\n",
    "}\n",
    "\n",
    "for group_key in group_map.keys():\n",
    "    subgroup_map = group_map[group_key]\n",
    "    privileged_group = subgroup_map['privileged']\n",
    "    unprivileged_group = subgroup_map['unprivileged']\n",
    "\n",
    "    privileged_group_name = ','.join(privileged_group)\n",
    "    unprivileged_group_name = ','.join(unprivileged_group)\n",
    "\n",
    "    overall_results[privileged_group_name] = calculate_metrics(result, privileged_group)\n",
    "    overall_results[privileged_group_name + '_DP'] = calculate_metrics(dp_result, privileged_group)\n",
    "\n",
    "    overall_results[unprivileged_group_name] = calculate_metrics(result, unprivileged_group)\n",
    "    overall_results[unprivileged_group_name + '_DP'] = calculate_metrics(dp_result, unprivileged_group)\n",
    "\n",
    "overall_results['Total'] = calculate_metrics(result, [])\n",
    "overall_results['Total_DP'] = calculate_metrics(dp_result, [])\n",
    "\n",
    "overall_results = pd.DataFrame(overall_results) \n",
    "overall_results"
   ]
  },
  {
   "cell_type": "code",
   "execution_count": 22,
   "metadata": {},
   "outputs": [],
   "source": [
    "overall_results.to_csv(os.path.join(model_folder, 'overall_results.csv'), index=False)"
   ]
  }
 ],
 "metadata": {
  "interpreter": {
   "hash": "f82c0d4b75d1a522b549257adf6e3ea321f1ee050a595ab76efcf522f2572b2a"
  },
  "kernelspec": {
   "display_name": "Python 3.10.2 64-bit",
   "language": "python",
   "name": "python3"
  },
  "language_info": {
   "codemirror_mode": {
    "name": "ipython",
    "version": 3
   },
   "file_extension": ".py",
   "mimetype": "text/x-python",
   "name": "python",
   "nbconvert_exporter": "python",
   "pygments_lexer": "ipython3",
   "version": "3.10.2"
  },
  "orig_nbformat": 4
 },
 "nbformat": 4,
 "nbformat_minor": 2
}
