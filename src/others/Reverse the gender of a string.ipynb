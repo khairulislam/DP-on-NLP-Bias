{
 "cells": [
  {
   "cell_type": "code",
   "execution_count": 68,
   "metadata": {},
   "outputs": [],
   "source": [
    "# https://rosettacode.org/wiki/Reverse_the_gender_of_a_string#Python\n",
    " \n",
    "import re\n",
    "male2female=u\"\"\"maleS femaleS, maleness femaleness,\n",
    "him her, himself herself, his her, his hers, he she,\n",
    "Mr Mrs, Mister Missus, Ms Mr, Master Miss, Master Mistress,\n",
    "uncleS auntS, nephewS nieceS, sonS daughterS, grandsonS granddaughterS,\n",
    "brotherS sisterS, man woman, men women, boyS girlS, paternal maternal,\n",
    "grandfatherS grandmotherS,\n",
    "husband wife, husbands wives, fatherS motherS, bridegroomS brideS, widowerS widowS,\n",
    "KingS QueenS,PrinceS PrincessES,\n",
    "Lord Lady, Lords Ladies,ladS lassES, sir madam, gentleman lady, gentlemen ladies,\n",
    "godS goddessES, heroS heroineS, landlord landlady, landlords landladies, \n",
    "manservantS maidservantS, actorS actressES,\n",
    "boyfriendS girlfriendS, dogS bitchES, daddy mommy, dadS momS\"\"\"\n",
    " \n",
    "re_newline=re.compile(r\",[ \\n]*\")\n",
    "male2female_splitted=[ token.split(\" \") for token in re_newline.split(male2female) ]\n",
    " \n",
    "re_plural=re.compile(\"E*S$\")\n",
    "re_ES=re.compile(\"ES$\")\n",
    " \n",
    "def gen_pluralize(m,f):\n",
    "# do plurals first \n",
    "  yield re_plural.sub(\"\",m),re_plural.sub(\"\",f)\n",
    "  yield re_ES.sub(\"es\",m),re_ES.sub(\"es\",f)\n",
    "  yield re_plural.sub(\"s\",m),re_plural.sub(\"s\",f)\n",
    " \n",
    "def gen_capitalize_pluralize(m,f):\n",
    "  for m,f in gen_pluralize(m,f):\n",
    "    yield m.capitalize(), f.capitalize()\n",
    "    yield m,f\n",
    "\n",
    "# converts male pronouns to female and female to male\n",
    "def gen_switch(male_to_female=True, female_to_male=True):\n",
    "  switch={}\n",
    "  words=[]\n",
    "\n",
    "  for male,female in male2female_splitted:\n",
    "    # for xy, xx in gen_capitalize_pluralize(male,female):\n",
    "    for xy, xx in gen_pluralize(male,female):\n",
    "      if male_to_female and xy not in switch: \n",
    "        switch[xy]=xx\n",
    "        words.append(xy)\n",
    "      if female_to_male and xx not in switch: \n",
    "        switch[xx]=xy\n",
    "        words.append(xx)\n",
    "\n",
    "  words=\"|\".join(words)\n",
    "  re_word = re.compile(r\"\\b(\"+words+r\")\\b\")\n",
    "  return re_word, switch\n",
    "\n",
    "def rev_gender(text, re_word, switch):\n",
    "  text=re_word.split(text)\n",
    "  return \"\".join([ word+switch[gen] for word,gen in zip(text[::2],text[1::2])]) + text[-1]"
   ]
  },
  {
   "cell_type": "code",
   "execution_count": 47,
   "metadata": {},
   "outputs": [
    {
     "name": "stdout",
     "output_type": "stream",
     "text": [
      "When a new-hatched savage running wild about him native\n",
      "woodlands in a grass clout, followed by the nibbling goats, as if\n",
      "he were a green sapling; There was excellent\n",
      "blood in his veins-royal stuff; though sadly vitiated, I fear,\n",
      "by the cannibal propensity he nourished in his untutored youth.\n"
     ]
    }
   ],
   "source": [
    "text=u'''When a new-hatched savage running wild about her native\n",
    "woodlands in a grass clout, followed by the nibbling goats, as if\n",
    "he were a green sapling; There was excellent\n",
    "blood in his veins-royal stuff; though sadly vitiated, I fear,\n",
    "by the cannibal propensity he nourished in his untutored youth.'''\n",
    " \n",
    "print(rev_gender(text))"
   ]
  },
  {
   "cell_type": "code",
   "execution_count": 71,
   "metadata": {},
   "outputs": [
    {
     "name": "stdout",
     "output_type": "stream",
     "text": [
      "shout out to my # babydaddy # fathersday\n"
     ]
    }
   ],
   "source": [
    "text = 'shout out to my # babydaddy # fathersday'\n",
    "re_word, switch = gen_switch()\n",
    "print(rev_gender(text.lower(), re_word, switch))"
   ]
  },
  {
   "cell_type": "code",
   "execution_count": 78,
   "metadata": {},
   "outputs": [
    {
     "name": "stderr",
     "output_type": "stream",
     "text": [
      "Using custom data configuration default\n",
      "Reusing dataset tweets_hate_speech_detection (C:\\Users\\khair\\.cache\\huggingface\\datasets\\tweets_hate_speech_detection\\default\\0.0.0\\c6b6f41e91ac9113e1c032c5ecf7a49b4e1e9dc8699ded3c2d8425c9217568b2)\n",
      "100%|██████████| 1/1 [00:00<00:00, 332.17it/s]\n"
     ]
    }
   ],
   "source": [
    "from datasets import load_dataset\n",
    "tweets_dataset = load_dataset('tweets_hate_speech_detection')"
   ]
  },
  {
   "cell_type": "code",
   "execution_count": 79,
   "metadata": {},
   "outputs": [
    {
     "data": {
      "text/plain": [
       "(2242, 29720)"
      ]
     },
     "execution_count": 79,
     "metadata": {},
     "output_type": "execute_result"
    }
   ],
   "source": [
    "tweets_dataset['train']['label'].count(1), tweets_dataset['train']['label'].count(0)"
   ]
  },
  {
   "cell_type": "code",
   "execution_count": 65,
   "metadata": {},
   "outputs": [
    {
     "name": "stderr",
     "output_type": "stream",
     "text": [
      "C:\\Users\\khair\\AppData\\Local\\Programs\\Python\\Python310\\lib\\site-packages\\tqdm\\auto.py:22: TqdmWarning: IProgress not found. Please update jupyter and ipywidgets. See https://ipywidgets.readthedocs.io/en/stable/user_install.html\n",
      "  from .autonotebook import tqdm as notebook_tqdm\n",
      "Downloading builder script: 3.14kB [00:00, 1.57MB/s]                   \n",
      "Downloading metadata: 1.84kB [00:00, 1.80MB/s]                 \n",
      "Using custom data configuration default\n"
     ]
    },
    {
     "name": "stdout",
     "output_type": "stream",
     "text": [
      "Downloading and preparing dataset tweets_hate_speech_detection/default (download: 2.96 MiB, generated: 3.04 MiB, post-processed: Unknown size, total: 6.00 MiB) to C:\\Users\\khair\\.cache\\huggingface\\datasets\\tweets_hate_speech_detection\\default\\0.0.0\\c6b6f41e91ac9113e1c032c5ecf7a49b4e1e9dc8699ded3c2d8425c9217568b2...\n"
     ]
    },
    {
     "name": "stderr",
     "output_type": "stream",
     "text": [
      "Downloading data: 3.10MB [00:00, 19.7MB/s]                   \n",
      "                                                                                       \r"
     ]
    },
    {
     "name": "stdout",
     "output_type": "stream",
     "text": [
      "Dataset tweets_hate_speech_detection downloaded and prepared to C:\\Users\\khair\\.cache\\huggingface\\datasets\\tweets_hate_speech_detection\\default\\0.0.0\\c6b6f41e91ac9113e1c032c5ecf7a49b4e1e9dc8699ded3c2d8425c9217568b2. Subsequent calls will reuse this data.\n"
     ]
    },
    {
     "name": "stderr",
     "output_type": "stream",
     "text": [
      "100%|██████████| 1/1 [00:00<00:00, 83.35it/s]\n"
     ]
    }
   ],
   "source": [
    "\n",
    "tweets_datasets = tweets_dataset['train'].train_test_split(test_size=0.2)\n",
    "tweets_datasets = tweets_datasets.rename_column(\"tweet\", \"text\")"
   ]
  },
  {
   "cell_type": "code",
   "execution_count": 72,
   "metadata": {},
   "outputs": [],
   "source": [
    "dataset = tweets_datasets\n",
    "\n",
    "dataset['test_gender_swapped'] = dataset['test']\n",
    "dataset['test_male_to_female'] = dataset['test']\n",
    "dataset['test_female_to_male'] = dataset['test']"
   ]
  },
  {
   "cell_type": "code",
   "execution_count": 73,
   "metadata": {},
   "outputs": [
    {
     "name": "stderr",
     "output_type": "stream",
     "text": [
      "100%|██████████| 6393/6393 [16:08<00:00,  6.60it/s]\n"
     ]
    }
   ],
   "source": [
    "from tqdm.auto import tqdm\n",
    "\n",
    "re_word_both, switch_both = gen_switch(male_to_female=True, female_to_male=True)\n",
    "re_word_f2m, switch_f2m = gen_switch(male_to_female=False, female_to_male=True)\n",
    "re_word_m2f, switch_m2f = gen_switch(male_to_female=True, female_to_male=False)\n",
    "\n",
    "for index in tqdm(range(len(dataset['test']['text']))):\n",
    "    text = dataset['test']['text'][index]\n",
    "\n",
    "    dataset['test_gender_swapped']['text'][index] = rev_gender(text, re_word_both, switch_both)\n",
    "    dataset['test_female_to_male']['text'][index] = rev_gender(text, re_word_f2m, switch_f2m)\n",
    "    dataset['test_male_to_female']['text'][index] = rev_gender(text, re_word_m2f, switch_m2f)"
   ]
  },
  {
   "cell_type": "code",
   "execution_count": 74,
   "metadata": {},
   "outputs": [
    {
     "name": "stderr",
     "output_type": "stream",
     "text": [
      "Flattening the indices: 100%|██████████| 26/26 [00:00<00:00, 114.54ba/s]\n",
      "Flattening the indices: 100%|██████████| 7/7 [00:00<00:00, 107.69ba/s]\n",
      "Loading cached processed dataset at C:\\Users\\khair\\.cache\\huggingface\\datasets\\tweets_hate_speech_detection\\default\\0.0.0\\c6b6f41e91ac9113e1c032c5ecf7a49b4e1e9dc8699ded3c2d8425c9217568b2\\cache-c8c0e60c236932e7.arrow\n",
      "Loading cached processed dataset at C:\\Users\\khair\\.cache\\huggingface\\datasets\\tweets_hate_speech_detection\\default\\0.0.0\\c6b6f41e91ac9113e1c032c5ecf7a49b4e1e9dc8699ded3c2d8425c9217568b2\\cache-c8c0e60c236932e7.arrow\n",
      "Loading cached processed dataset at C:\\Users\\khair\\.cache\\huggingface\\datasets\\tweets_hate_speech_detection\\default\\0.0.0\\c6b6f41e91ac9113e1c032c5ecf7a49b4e1e9dc8699ded3c2d8425c9217568b2\\cache-c8c0e60c236932e7.arrow\n"
     ]
    }
   ],
   "source": [
    "dataset.save_to_disk('tweet-dataset')"
   ]
  },
  {
   "cell_type": "code",
   "execution_count": 77,
   "metadata": {},
   "outputs": [
    {
     "data": {
      "text/plain": [
       "(1806, 23763)"
      ]
     },
     "execution_count": 77,
     "metadata": {},
     "output_type": "execute_result"
    }
   ],
   "source": []
  },
  {
   "cell_type": "code",
   "execution_count": 75,
   "metadata": {},
   "outputs": [
    {
     "data": {
      "text/plain": [
       "DatasetDict({\n",
       "    train: Dataset({\n",
       "        features: ['label', 'text'],\n",
       "        num_rows: 25569\n",
       "    })\n",
       "    test: Dataset({\n",
       "        features: ['label', 'text'],\n",
       "        num_rows: 6393\n",
       "    })\n",
       "    test_gender_swapped: Dataset({\n",
       "        features: ['label', 'text'],\n",
       "        num_rows: 6393\n",
       "    })\n",
       "    test_male_to_female: Dataset({\n",
       "        features: ['label', 'text'],\n",
       "        num_rows: 6393\n",
       "    })\n",
       "    test_female_to_male: Dataset({\n",
       "        features: ['label', 'text'],\n",
       "        num_rows: 6393\n",
       "    })\n",
       "})"
      ]
     },
     "execution_count": 75,
     "metadata": {},
     "output_type": "execute_result"
    }
   ],
   "source": [
    "dataset"
   ]
  },
  {
   "cell_type": "code",
   "execution_count": null,
   "metadata": {},
   "outputs": [],
   "source": []
  }
 ],
 "metadata": {
  "interpreter": {
   "hash": "076d5ab3cb69a029cea0e81e5a616a9bfe17a70fda9b31c7c4f4ba04648b795e"
  },
  "kernelspec": {
   "display_name": "Python 3.10.2 64-bit",
   "language": "python",
   "name": "python3"
  },
  "language_info": {
   "codemirror_mode": {
    "name": "ipython",
    "version": 3
   },
   "file_extension": ".py",
   "mimetype": "text/x-python",
   "name": "python",
   "nbconvert_exporter": "python",
   "pygments_lexer": "ipython3",
   "version": "3.10.2"
  },
  "orig_nbformat": 4
 },
 "nbformat": 4,
 "nbformat_minor": 2
}
